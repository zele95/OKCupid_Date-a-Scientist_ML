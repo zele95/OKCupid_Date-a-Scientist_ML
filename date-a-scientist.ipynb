{
 "cells": [
  {
   "cell_type": "markdown",
   "metadata": {},
   "source": [
    "## **OKCupid Date-a-Scientist**"
   ]
  },
  {
   "cell_type": "markdown",
   "metadata": {},
   "source": [
    "### Scope"
   ]
  },
  {
   "cell_type": "markdown",
   "metadata": {},
   "source": [
    "In recent years, there has been a massive rise in the usage of dating apps to find love. Many of these apps use sophisticated data science techniques to recommend possible matches to users and to optimize the user experience. These apps give us access to a wealth of information that we’ve never had before about how different people experience romance.\n",
    "\n",
    "The focus of this project is predicting the zodiac sign of the users. Zodiac symbols are important for many users, but some users don’t add them in. This way, we can predict a user’s zodiac signs so we can guess the missing zodiacs when we make matches."
   ]
  },
  {
   "cell_type": "markdown",
   "metadata": {},
   "source": [
    "### Introduction"
   ]
  },
  {
   "cell_type": "markdown",
   "metadata": {},
   "source": [
    "First, necessary libraries are imported and the data is loaded and previewed."
   ]
  },
  {
   "cell_type": "code",
   "execution_count": 120,
   "metadata": {},
   "outputs": [
    {
     "data": {
      "text/html": [
       "<div>\n",
       "<style scoped>\n",
       "    .dataframe tbody tr th:only-of-type {\n",
       "        vertical-align: middle;\n",
       "    }\n",
       "\n",
       "    .dataframe tbody tr th {\n",
       "        vertical-align: top;\n",
       "    }\n",
       "\n",
       "    .dataframe thead th {\n",
       "        text-align: right;\n",
       "    }\n",
       "</style>\n",
       "<table border=\"1\" class=\"dataframe\">\n",
       "  <thead>\n",
       "    <tr style=\"text-align: right;\">\n",
       "      <th></th>\n",
       "      <th>age</th>\n",
       "      <th>body_type</th>\n",
       "      <th>diet</th>\n",
       "      <th>drinks</th>\n",
       "      <th>drugs</th>\n",
       "      <th>education</th>\n",
       "      <th>essay0</th>\n",
       "      <th>essay1</th>\n",
       "      <th>essay2</th>\n",
       "      <th>essay3</th>\n",
       "      <th>...</th>\n",
       "      <th>location</th>\n",
       "      <th>offspring</th>\n",
       "      <th>orientation</th>\n",
       "      <th>pets</th>\n",
       "      <th>religion</th>\n",
       "      <th>sex</th>\n",
       "      <th>sign</th>\n",
       "      <th>smokes</th>\n",
       "      <th>speaks</th>\n",
       "      <th>status</th>\n",
       "    </tr>\n",
       "  </thead>\n",
       "  <tbody>\n",
       "    <tr>\n",
       "      <th>0</th>\n",
       "      <td>22</td>\n",
       "      <td>a little extra</td>\n",
       "      <td>strictly anything</td>\n",
       "      <td>socially</td>\n",
       "      <td>never</td>\n",
       "      <td>working on college/university</td>\n",
       "      <td>about me:&lt;br /&gt;\\n&lt;br /&gt;\\ni would love to think...</td>\n",
       "      <td>currently working as an international agent fo...</td>\n",
       "      <td>making people laugh.&lt;br /&gt;\\nranting about a go...</td>\n",
       "      <td>the way i look. i am a six foot half asian, ha...</td>\n",
       "      <td>...</td>\n",
       "      <td>south san francisco, california</td>\n",
       "      <td>doesn&amp;rsquo;t have kids, but might want them</td>\n",
       "      <td>straight</td>\n",
       "      <td>likes dogs and likes cats</td>\n",
       "      <td>agnosticism and very serious about it</td>\n",
       "      <td>m</td>\n",
       "      <td>gemini</td>\n",
       "      <td>sometimes</td>\n",
       "      <td>english</td>\n",
       "      <td>single</td>\n",
       "    </tr>\n",
       "    <tr>\n",
       "      <th>1</th>\n",
       "      <td>35</td>\n",
       "      <td>average</td>\n",
       "      <td>mostly other</td>\n",
       "      <td>often</td>\n",
       "      <td>sometimes</td>\n",
       "      <td>working on space camp</td>\n",
       "      <td>i am a chef: this is what that means.&lt;br /&gt;\\n1...</td>\n",
       "      <td>dedicating everyday to being an unbelievable b...</td>\n",
       "      <td>being silly. having ridiculous amonts of fun w...</td>\n",
       "      <td>NaN</td>\n",
       "      <td>...</td>\n",
       "      <td>oakland, california</td>\n",
       "      <td>doesn&amp;rsquo;t have kids, but might want them</td>\n",
       "      <td>straight</td>\n",
       "      <td>likes dogs and likes cats</td>\n",
       "      <td>agnosticism but not too serious about it</td>\n",
       "      <td>m</td>\n",
       "      <td>cancer</td>\n",
       "      <td>no</td>\n",
       "      <td>english (fluently), spanish (poorly), french (...</td>\n",
       "      <td>single</td>\n",
       "    </tr>\n",
       "    <tr>\n",
       "      <th>2</th>\n",
       "      <td>38</td>\n",
       "      <td>thin</td>\n",
       "      <td>anything</td>\n",
       "      <td>socially</td>\n",
       "      <td>NaN</td>\n",
       "      <td>graduated from masters program</td>\n",
       "      <td>i'm not ashamed of much, but writing public te...</td>\n",
       "      <td>i make nerdy software for musicians, artists, ...</td>\n",
       "      <td>improvising in different contexts. alternating...</td>\n",
       "      <td>my large jaw and large glasses are the physica...</td>\n",
       "      <td>...</td>\n",
       "      <td>san francisco, california</td>\n",
       "      <td>NaN</td>\n",
       "      <td>straight</td>\n",
       "      <td>has cats</td>\n",
       "      <td>NaN</td>\n",
       "      <td>m</td>\n",
       "      <td>pisces but it doesn&amp;rsquo;t matter</td>\n",
       "      <td>no</td>\n",
       "      <td>english, french, c++</td>\n",
       "      <td>available</td>\n",
       "    </tr>\n",
       "    <tr>\n",
       "      <th>3</th>\n",
       "      <td>23</td>\n",
       "      <td>thin</td>\n",
       "      <td>vegetarian</td>\n",
       "      <td>socially</td>\n",
       "      <td>NaN</td>\n",
       "      <td>working on college/university</td>\n",
       "      <td>i work in a library and go to school. . .</td>\n",
       "      <td>reading things written by old dead people</td>\n",
       "      <td>playing synthesizers and organizing books acco...</td>\n",
       "      <td>socially awkward but i do my best</td>\n",
       "      <td>...</td>\n",
       "      <td>berkeley, california</td>\n",
       "      <td>doesn&amp;rsquo;t want kids</td>\n",
       "      <td>straight</td>\n",
       "      <td>likes cats</td>\n",
       "      <td>NaN</td>\n",
       "      <td>m</td>\n",
       "      <td>pisces</td>\n",
       "      <td>no</td>\n",
       "      <td>english, german (poorly)</td>\n",
       "      <td>single</td>\n",
       "    </tr>\n",
       "    <tr>\n",
       "      <th>4</th>\n",
       "      <td>29</td>\n",
       "      <td>athletic</td>\n",
       "      <td>NaN</td>\n",
       "      <td>socially</td>\n",
       "      <td>never</td>\n",
       "      <td>graduated from college/university</td>\n",
       "      <td>hey how's it going? currently vague on the pro...</td>\n",
       "      <td>work work work work + play</td>\n",
       "      <td>creating imagery to look at:&lt;br /&gt;\\nhttp://bag...</td>\n",
       "      <td>i smile a lot and my inquisitive nature</td>\n",
       "      <td>...</td>\n",
       "      <td>san francisco, california</td>\n",
       "      <td>NaN</td>\n",
       "      <td>straight</td>\n",
       "      <td>likes dogs and likes cats</td>\n",
       "      <td>NaN</td>\n",
       "      <td>m</td>\n",
       "      <td>aquarius</td>\n",
       "      <td>no</td>\n",
       "      <td>english</td>\n",
       "      <td>single</td>\n",
       "    </tr>\n",
       "  </tbody>\n",
       "</table>\n",
       "<p>5 rows × 31 columns</p>\n",
       "</div>"
      ],
      "text/plain": [
       "   age       body_type               diet    drinks      drugs  \\\n",
       "0   22  a little extra  strictly anything  socially      never   \n",
       "1   35         average       mostly other     often  sometimes   \n",
       "2   38            thin           anything  socially        NaN   \n",
       "3   23            thin         vegetarian  socially        NaN   \n",
       "4   29        athletic                NaN  socially      never   \n",
       "\n",
       "                           education  \\\n",
       "0      working on college/university   \n",
       "1              working on space camp   \n",
       "2     graduated from masters program   \n",
       "3      working on college/university   \n",
       "4  graduated from college/university   \n",
       "\n",
       "                                              essay0  \\\n",
       "0  about me:<br />\\n<br />\\ni would love to think...   \n",
       "1  i am a chef: this is what that means.<br />\\n1...   \n",
       "2  i'm not ashamed of much, but writing public te...   \n",
       "3          i work in a library and go to school. . .   \n",
       "4  hey how's it going? currently vague on the pro...   \n",
       "\n",
       "                                              essay1  \\\n",
       "0  currently working as an international agent fo...   \n",
       "1  dedicating everyday to being an unbelievable b...   \n",
       "2  i make nerdy software for musicians, artists, ...   \n",
       "3          reading things written by old dead people   \n",
       "4                         work work work work + play   \n",
       "\n",
       "                                              essay2  \\\n",
       "0  making people laugh.<br />\\nranting about a go...   \n",
       "1  being silly. having ridiculous amonts of fun w...   \n",
       "2  improvising in different contexts. alternating...   \n",
       "3  playing synthesizers and organizing books acco...   \n",
       "4  creating imagery to look at:<br />\\nhttp://bag...   \n",
       "\n",
       "                                              essay3  ...  \\\n",
       "0  the way i look. i am a six foot half asian, ha...  ...   \n",
       "1                                                NaN  ...   \n",
       "2  my large jaw and large glasses are the physica...  ...   \n",
       "3                  socially awkward but i do my best  ...   \n",
       "4            i smile a lot and my inquisitive nature  ...   \n",
       "\n",
       "                          location  \\\n",
       "0  south san francisco, california   \n",
       "1              oakland, california   \n",
       "2        san francisco, california   \n",
       "3             berkeley, california   \n",
       "4        san francisco, california   \n",
       "\n",
       "                                      offspring orientation  \\\n",
       "0  doesn&rsquo;t have kids, but might want them    straight   \n",
       "1  doesn&rsquo;t have kids, but might want them    straight   \n",
       "2                                           NaN    straight   \n",
       "3                       doesn&rsquo;t want kids    straight   \n",
       "4                                           NaN    straight   \n",
       "\n",
       "                        pets                                  religion sex  \\\n",
       "0  likes dogs and likes cats     agnosticism and very serious about it   m   \n",
       "1  likes dogs and likes cats  agnosticism but not too serious about it   m   \n",
       "2                   has cats                                       NaN   m   \n",
       "3                 likes cats                                       NaN   m   \n",
       "4  likes dogs and likes cats                                       NaN   m   \n",
       "\n",
       "                                 sign     smokes  \\\n",
       "0                              gemini  sometimes   \n",
       "1                              cancer         no   \n",
       "2  pisces but it doesn&rsquo;t matter         no   \n",
       "3                              pisces         no   \n",
       "4                            aquarius         no   \n",
       "\n",
       "                                              speaks     status  \n",
       "0                                            english     single  \n",
       "1  english (fluently), spanish (poorly), french (...     single  \n",
       "2                               english, french, c++  available  \n",
       "3                           english, german (poorly)     single  \n",
       "4                                            english     single  \n",
       "\n",
       "[5 rows x 31 columns]"
      ]
     },
     "execution_count": 120,
     "metadata": {},
     "output_type": "execute_result"
    }
   ],
   "source": [
    "import pandas as pd\n",
    "import seaborn as sns\n",
    "import matplotlib.pyplot as plt \n",
    "from sklearn.model_selection import train_test_split\n",
    "from sklearn.preprocessing import StandardScaler\n",
    "from sklearn.linear_model import LogisticRegression\n",
    "from sklearn.neighbors import KNeighborsClassifier\n",
    "from sklearn.naive_bayes import MultinomialNB\n",
    "from sklearn.tree import DecisionTreeClassifier\n",
    "from sklearn.svm import SVC\n",
    "from sklearn.ensemble import RandomForestClassifier\n",
    "from sklearn.feature_extraction.text import CountVectorizer\n",
    "from preprocessing import preprocess_text\n",
    "from scipy.sparse import hstack\n",
    "from sklearn.metrics import classification_report\n",
    "from sklearn.model_selection import KFold\n",
    "from sklearn.model_selection import cross_val_score\n",
    "from sklearn.pipeline import make_pipeline\n",
    "from sklearn.model_selection import GridSearchCV\n",
    "\n",
    "\n",
    "df = pd.read_csv('profiles.csv')\n",
    "df.head()"
   ]
  },
  {
   "cell_type": "markdown",
   "metadata": {},
   "source": [
    "Next, we can have a look at the basic information and missing values (not considering essay questions)."
   ]
  },
  {
   "cell_type": "code",
   "execution_count": 121,
   "metadata": {},
   "outputs": [
    {
     "name": "stdout",
     "output_type": "stream",
     "text": [
      "<class 'pandas.core.frame.DataFrame'>\n",
      "RangeIndex: 59946 entries, 0 to 59945\n",
      "Data columns (total 21 columns):\n",
      " #   Column       Non-Null Count  Dtype  \n",
      "---  ------       --------------  -----  \n",
      " 0   age          59946 non-null  int64  \n",
      " 1   body_type    54650 non-null  object \n",
      " 2   diet         35551 non-null  object \n",
      " 3   drinks       56961 non-null  object \n",
      " 4   drugs        45866 non-null  object \n",
      " 5   education    53318 non-null  object \n",
      " 6   ethnicity    54266 non-null  object \n",
      " 7   height       59943 non-null  float64\n",
      " 8   income       59946 non-null  int64  \n",
      " 9   job          51748 non-null  object \n",
      " 10  last_online  59946 non-null  object \n",
      " 11  location     59946 non-null  object \n",
      " 12  offspring    24385 non-null  object \n",
      " 13  orientation  59946 non-null  object \n",
      " 14  pets         40025 non-null  object \n",
      " 15  religion     39720 non-null  object \n",
      " 16  sex          59946 non-null  object \n",
      " 17  sign         48890 non-null  object \n",
      " 18  smokes       54434 non-null  object \n",
      " 19  speaks       59896 non-null  object \n",
      " 20  status       59946 non-null  object \n",
      "dtypes: float64(1), int64(2), object(18)\n",
      "memory usage: 9.6+ MB\n"
     ]
    }
   ],
   "source": [
    "df.drop(columns = df.loc[:,'essay0':'essay9'].columns).info()"
   ]
  },
  {
   "cell_type": "markdown",
   "metadata": {},
   "source": [
    "### Data Cleaning\n",
    "\n",
    "We can see that there are some essay questions that are more suitable for NLP approach and modeling. We will separate these questions to another data frame and return to it later."
   ]
  },
  {
   "cell_type": "code",
   "execution_count": 122,
   "metadata": {},
   "outputs": [],
   "source": [
    "df_essay = df.loc[:,'essay0':'essay9']\n",
    "df.drop(columns = df.loc[:,'essay0':'essay9'].columns, inplace = True)"
   ]
  },
  {
   "cell_type": "markdown",
   "metadata": {},
   "source": [
    "Now, we can inspect some columns that may have a majority of `NaN` or not specified values (like `income` and `offspring`). In order to clean up the data, we can remove these columns along with the columns that may not be important for predicting the zodiac sign."
   ]
  },
  {
   "cell_type": "code",
   "execution_count": 123,
   "metadata": {},
   "outputs": [
    {
     "name": "stdout",
     "output_type": "stream",
     "text": [
      "NaN                                                    35561\n",
      "doesn&rsquo;t have kids                                 7560\n",
      "doesn&rsquo;t have kids, but might want them            3875\n",
      "doesn&rsquo;t have kids, but wants them                 3565\n",
      "doesn&rsquo;t want kids                                 2927\n",
      "has kids                                                1883\n",
      "has a kid                                               1881\n",
      "doesn&rsquo;t have kids, and doesn&rsquo;t want any     1132\n",
      "has kids, but doesn&rsquo;t want more                    442\n",
      "has a kid, but doesn&rsquo;t want more                   275\n",
      "has a kid, and might want more                           231\n",
      "wants kids                                               225\n",
      "might want kids                                          182\n",
      "has kids, and might want more                            115\n",
      "has a kid, and wants more                                 71\n",
      "has kids, and wants more                                  21\n",
      "Name: offspring, dtype: int64\n"
     ]
    },
    {
     "data": {
      "text/html": [
       "<div>\n",
       "<style scoped>\n",
       "    .dataframe tbody tr th:only-of-type {\n",
       "        vertical-align: middle;\n",
       "    }\n",
       "\n",
       "    .dataframe tbody tr th {\n",
       "        vertical-align: top;\n",
       "    }\n",
       "\n",
       "    .dataframe thead th {\n",
       "        text-align: right;\n",
       "    }\n",
       "</style>\n",
       "<table border=\"1\" class=\"dataframe\">\n",
       "  <thead>\n",
       "    <tr style=\"text-align: right;\">\n",
       "      <th></th>\n",
       "      <th>body_type</th>\n",
       "      <th>diet</th>\n",
       "      <th>drinks</th>\n",
       "      <th>drugs</th>\n",
       "      <th>education</th>\n",
       "      <th>job</th>\n",
       "      <th>orientation</th>\n",
       "      <th>pets</th>\n",
       "      <th>religion</th>\n",
       "      <th>sex</th>\n",
       "      <th>sign</th>\n",
       "      <th>smokes</th>\n",
       "      <th>status</th>\n",
       "    </tr>\n",
       "  </thead>\n",
       "  <tbody>\n",
       "    <tr>\n",
       "      <th>0</th>\n",
       "      <td>a little extra</td>\n",
       "      <td>strictly anything</td>\n",
       "      <td>socially</td>\n",
       "      <td>never</td>\n",
       "      <td>working on college/university</td>\n",
       "      <td>transportation</td>\n",
       "      <td>straight</td>\n",
       "      <td>likes dogs and likes cats</td>\n",
       "      <td>agnosticism and very serious about it</td>\n",
       "      <td>m</td>\n",
       "      <td>gemini</td>\n",
       "      <td>sometimes</td>\n",
       "      <td>single</td>\n",
       "    </tr>\n",
       "    <tr>\n",
       "      <th>1</th>\n",
       "      <td>average</td>\n",
       "      <td>mostly other</td>\n",
       "      <td>often</td>\n",
       "      <td>sometimes</td>\n",
       "      <td>working on space camp</td>\n",
       "      <td>hospitality / travel</td>\n",
       "      <td>straight</td>\n",
       "      <td>likes dogs and likes cats</td>\n",
       "      <td>agnosticism but not too serious about it</td>\n",
       "      <td>m</td>\n",
       "      <td>cancer</td>\n",
       "      <td>no</td>\n",
       "      <td>single</td>\n",
       "    </tr>\n",
       "    <tr>\n",
       "      <th>2</th>\n",
       "      <td>thin</td>\n",
       "      <td>anything</td>\n",
       "      <td>socially</td>\n",
       "      <td>NaN</td>\n",
       "      <td>graduated from masters program</td>\n",
       "      <td>NaN</td>\n",
       "      <td>straight</td>\n",
       "      <td>has cats</td>\n",
       "      <td>NaN</td>\n",
       "      <td>m</td>\n",
       "      <td>pisces but it doesn&amp;rsquo;t matter</td>\n",
       "      <td>no</td>\n",
       "      <td>available</td>\n",
       "    </tr>\n",
       "    <tr>\n",
       "      <th>3</th>\n",
       "      <td>thin</td>\n",
       "      <td>vegetarian</td>\n",
       "      <td>socially</td>\n",
       "      <td>NaN</td>\n",
       "      <td>working on college/university</td>\n",
       "      <td>student</td>\n",
       "      <td>straight</td>\n",
       "      <td>likes cats</td>\n",
       "      <td>NaN</td>\n",
       "      <td>m</td>\n",
       "      <td>pisces</td>\n",
       "      <td>no</td>\n",
       "      <td>single</td>\n",
       "    </tr>\n",
       "    <tr>\n",
       "      <th>4</th>\n",
       "      <td>athletic</td>\n",
       "      <td>NaN</td>\n",
       "      <td>socially</td>\n",
       "      <td>never</td>\n",
       "      <td>graduated from college/university</td>\n",
       "      <td>artistic / musical / writer</td>\n",
       "      <td>straight</td>\n",
       "      <td>likes dogs and likes cats</td>\n",
       "      <td>NaN</td>\n",
       "      <td>m</td>\n",
       "      <td>aquarius</td>\n",
       "      <td>no</td>\n",
       "      <td>single</td>\n",
       "    </tr>\n",
       "  </tbody>\n",
       "</table>\n",
       "</div>"
      ],
      "text/plain": [
       "        body_type               diet    drinks      drugs  \\\n",
       "0  a little extra  strictly anything  socially      never   \n",
       "1         average       mostly other     often  sometimes   \n",
       "2            thin           anything  socially        NaN   \n",
       "3            thin         vegetarian  socially        NaN   \n",
       "4        athletic                NaN  socially      never   \n",
       "\n",
       "                           education                          job orientation  \\\n",
       "0      working on college/university               transportation    straight   \n",
       "1              working on space camp         hospitality / travel    straight   \n",
       "2     graduated from masters program                          NaN    straight   \n",
       "3      working on college/university                      student    straight   \n",
       "4  graduated from college/university  artistic / musical / writer    straight   \n",
       "\n",
       "                        pets                                  religion sex  \\\n",
       "0  likes dogs and likes cats     agnosticism and very serious about it   m   \n",
       "1  likes dogs and likes cats  agnosticism but not too serious about it   m   \n",
       "2                   has cats                                       NaN   m   \n",
       "3                 likes cats                                       NaN   m   \n",
       "4  likes dogs and likes cats                                       NaN   m   \n",
       "\n",
       "                                 sign     smokes     status  \n",
       "0                              gemini  sometimes     single  \n",
       "1                              cancer         no     single  \n",
       "2  pisces but it doesn&rsquo;t matter         no  available  \n",
       "3                              pisces         no     single  \n",
       "4                            aquarius         no     single  "
      ]
     },
     "execution_count": 123,
     "metadata": {},
     "output_type": "execute_result"
    }
   ],
   "source": [
    "print(df.offspring.value_counts(dropna = False))\n",
    "# print(df.income.value_counts(dropna = False))\n",
    "# print(df.offspring.value_counts(dropna = False))\n",
    "\n",
    "df.drop(columns = ['income','offspring','age','ethnicity','height','last_online','location','speaks'], inplace = True)\n",
    "df.head()"
   ]
  },
  {
   "cell_type": "markdown",
   "metadata": {},
   "source": [
    "We can see that `sign` and `religion` have pretty messy values. We can separate the religion/sign into one column and the rest in the second. Also, we have to fill the `NaN` values for the comments that were not inputted."
   ]
  },
  {
   "cell_type": "code",
   "execution_count": 124,
   "metadata": {},
   "outputs": [
    {
     "name": "stdout",
     "output_type": "stream",
     "text": [
      "leo            4374\n",
      "gemini         4310\n",
      "libra          4207\n",
      "cancer         4206\n",
      "virgo          4141\n",
      "taurus         4140\n",
      "scorpio        4134\n",
      "aries          3989\n",
      "pisces         3946\n",
      "sagittarius    3942\n",
      "aquarius       3928\n",
      "capricorn      3573\n",
      "Name: zodiac, dtype: int64\n"
     ]
    }
   ],
   "source": [
    "# replacing the html special characters for colon\n",
    "df['sign'] = df.sign.replace({'&rsquo;':'\\''},regex = True)\n",
    "\n",
    "# splitting the sign column\n",
    "df['zodiac'] = df.sign.str.split(' ').str.get(0)\n",
    "df['zodiac_comment'] = df.sign.str.split(' ',1).str.get(1)\n",
    "df['zodiac_comment'] = df['zodiac_comment'].fillna('None') \n",
    "\n",
    "# splitting the religion column\n",
    "df['religion_comment'] = df.religion.str.split(' ',1).str.get(1)\n",
    "df['religion'] = df.religion.str.split(' ').str.get(0)\n",
    "df['religion_comment'] = df['religion_comment'].fillna('None') \n",
    "\n",
    "df.drop(columns=['sign'],inplace = True)\n",
    "print(df.zodiac.value_counts())"
   ]
  },
  {
   "cell_type": "markdown",
   "metadata": {},
   "source": [
    "### **Exploratory Data Analisys**\n",
    "\n",
    "As we cleaned the two categories above, we can see that there are only 12 zodiac signs and certain religions. Also, zodiac signs are distributed evenly.\n",
    "Next, we can show the variation in sex across different categorical variables. The fields `education` and `job` have too many distinct variables and are therefore not plotted. As we can see, some variables like `drinks`, `drugs`, `smokes` etc. are ordinal variables nd will later be mapped to integer values."
   ]
  },
  {
   "cell_type": "code",
   "execution_count": 125,
   "metadata": {},
   "outputs": [
    {
     "data": {
      "image/png": "[encoded data removed]",
      "text/plain": [
       "<Figure size 1800x720 with 10 Axes>"
      ]
     },
     "metadata": {
      "needs_background": "light"
     },
     "output_type": "display_data"
    }
   ],
   "source": [
    "fig,axes=plt.subplots(2,5,figsize=(25,10))\n",
    "\n",
    "sns.countplot(data = df, x ='sex',ax=axes[0,0])\n",
    "sns.countplot(y=\"diet\",hue=\"sex\",data=df,ax=axes[0,1])\n",
    "sns.countplot(y=\"drinks\",data=df, hue = 'sex',ax=axes[0,2])\n",
    "sns.countplot(y=\"drugs\",hue=\"sex\",data=df,ax=axes[0,3])\n",
    "sns.countplot(y=\"smokes\",hue=\"sex\",data=df,ax=axes[0,4])\n",
    "\n",
    "sns.countplot(y=\"body_type\",hue=\"sex\",data=df,ax=axes[1,0])\n",
    "sns.countplot(y=\"pets\",hue=\"sex\",data=df,ax=axes[1,1])\n",
    "sns.countplot(y=\"orientation\",data=df, hue = 'sex',ax=axes[1,2])\n",
    "sns.countplot(y=\"status\",hue=\"sex\",data=df,ax=axes[1,3])\n",
    "sns.countplot(y=\"religion\",hue=\"sex\",data=df,ax=axes[1,4])\n",
    "\n",
    "plt.suptitle(\"Categorical variables and sex\",fontsize=14)\n",
    "plt.tight_layout()\n",
    "\n",
    "# print(df.job.value_counts())\n",
    "# print(df.education.value_counts())"
   ]
  },
  {
   "cell_type": "markdown",
   "metadata": {},
   "source": []
  },
  {
   "cell_type": "code",
   "execution_count": null,
   "metadata": {},
   "outputs": [],
   "source": []
  },
  {
   "cell_type": "markdown",
   "metadata": {},
   "source": [
    "### **Data Preprocessing**\n",
    "\n",
    "Now, we can start with the data preprocessing. First, we can map the certain columns like `drinks` and `drugs` to integers."
   ]
  },
  {
   "cell_type": "code",
   "execution_count": 126,
   "metadata": {},
   "outputs": [
    {
     "name": "stdout",
     "output_type": "stream",
     "text": [
      "0.0    37724\n",
      "1.0     7732\n",
      "2.0      410\n",
      "Name: drugs, dtype: int64\n",
      "0.0    43896\n",
      "3.0     3787\n",
      "2.0     3040\n",
      "4.0     2231\n",
      "1.0     1480\n",
      "Name: smokes, dtype: int64\n"
     ]
    }
   ],
   "source": [
    "df['drinks'] = df.drinks.replace({'not at all':0,'rarely':1,'socially':2, 'often':3,'very often':4,'desperately':5})\n",
    "df['drugs'] = df.drugs.replace({'never':0,'sometimes':1,'often':2})\n",
    "df['smokes'] = df.smokes.replace({'no':0, 'trying to quit':1, 'when drinking':2,'sometimes':3, 'yes':4})\n",
    "\n",
    "print(df.drugs.value_counts())\n",
    "print(df.smokes.value_counts())"
   ]
  },
  {
   "cell_type": "markdown",
   "metadata": {},
   "source": [
    "Label encoder"
   ]
  },
  {
   "cell_type": "code",
   "execution_count": 127,
   "metadata": {},
   "outputs": [
    {
     "data": {
      "text/plain": [
       "<AxesSubplot:>"
      ]
     },
     "execution_count": 127,
     "metadata": {},
     "output_type": "execute_result"
    },
    {
     "data": {
      "image/png": "[encoded data removed]",
      "text/plain": [
       "<Figure size 432x288 with 2 Axes>"
      ]
     },
     "metadata": {
      "needs_background": "light"
     },
     "output_type": "display_data"
    }
   ],
   "source": [
    "sns.heatmap(df.corr(),cmap='OrRd',annot=True,fmt=\".2f\")"
   ]
  },
  {
   "cell_type": "code",
   "execution_count": null,
   "metadata": {},
   "outputs": [],
   "source": []
  },
  {
   "cell_type": "markdown",
   "metadata": {},
   "source": [
    "### Preprocessing text data\n",
    "\n",
    "Essay questions have to be preprocessed first. This involves removing punctuation, URLs and stop words, lower casing and finally tokenization, stemming and lematization. This is all done using the `preprocess_text` function that uses `nltk` library. Since there are some `Nan` values, we have to replace them with empty strings first."
   ]
  },
  {
   "cell_type": "code",
   "execution_count": 9,
   "metadata": {},
   "outputs": [
    {
     "name": "stdout",
     "output_type": "stream",
     "text": [
      "essay0     5488\n",
      "essay1     7572\n",
      "essay2     9638\n",
      "essay3    11476\n",
      "essay4    10537\n",
      "essay5    10850\n",
      "essay6    13771\n",
      "essay7    12451\n",
      "essay8    19225\n",
      "essay9    12603\n",
      "dtype: int64\n"
     ]
    },
    {
     "data": {
      "text/html": [
       "<div>\n",
       "<style scoped>\n",
       "    .dataframe tbody tr th:only-of-type {\n",
       "        vertical-align: middle;\n",
       "    }\n",
       "\n",
       "    .dataframe tbody tr th {\n",
       "        vertical-align: top;\n",
       "    }\n",
       "\n",
       "    .dataframe thead th {\n",
       "        text-align: right;\n",
       "    }\n",
       "</style>\n",
       "<table border=\"1\" class=\"dataframe\">\n",
       "  <thead>\n",
       "    <tr style=\"text-align: right;\">\n",
       "      <th></th>\n",
       "      <th>essay0</th>\n",
       "      <th>essay1</th>\n",
       "      <th>essay2</th>\n",
       "      <th>essay3</th>\n",
       "      <th>essay4</th>\n",
       "      <th>essay5</th>\n",
       "      <th>essay6</th>\n",
       "      <th>essay7</th>\n",
       "      <th>essay8</th>\n",
       "      <th>essay9</th>\n",
       "    </tr>\n",
       "  </thead>\n",
       "  <tbody>\n",
       "    <tr>\n",
       "      <th>0</th>\n",
       "      <td>about me br br i would love to think that i be...</td>\n",
       "      <td>currently work a an international agent for a ...</td>\n",
       "      <td>make people laugh br ranting about a good salt...</td>\n",
       "      <td>the way i look i be a six foot half asian half...</td>\n",
       "      <td>book br absurdistan the republic of mouse and ...</td>\n",
       "      <td>food br water br cell phone br shelter</td>\n",
       "      <td>duality and humorous thing</td>\n",
       "      <td>try to find someone to hang out with i be down...</td>\n",
       "      <td>i be new to california and look for someone to...</td>\n",
       "      <td>you want to be sweep off your foot br you be t...</td>\n",
       "    </tr>\n",
       "    <tr>\n",
       "      <th>1</th>\n",
       "      <td>i be a chef this be what that mean br i be a w...</td>\n",
       "      <td>dedicate everyday to be an unbelievable badass</td>\n",
       "      <td>be silly have ridiculous amonts of fun whereve...</td>\n",
       "      <td>nan</td>\n",
       "      <td>i be die hard christopher moore fan i don t re...</td>\n",
       "      <td>delicious porkness in all of it glory br my bi...</td>\n",
       "      <td>nan</td>\n",
       "      <td>nan</td>\n",
       "      <td>i be very open and will share just about anything</td>\n",
       "      <td>nan</td>\n",
       "    </tr>\n",
       "    <tr>\n",
       "      <th>2</th>\n",
       "      <td>i m not ashamed of much but write public text ...</td>\n",
       "      <td>i make nerdy software for musician artist and ...</td>\n",
       "      <td>improvise in different context alternate betwe...</td>\n",
       "      <td>my large jaw and large glass be the physical t...</td>\n",
       "      <td>okay this be where the cultural matrix get so ...</td>\n",
       "      <td>movement br conversation br creation br contem...</td>\n",
       "      <td>nan</td>\n",
       "      <td>view listen dance talk drink perform</td>\n",
       "      <td>when i be five year old i be know a the boogerman</td>\n",
       "      <td>you be bright open intense silly ironic critic...</td>\n",
       "    </tr>\n",
       "    <tr>\n",
       "      <th>3</th>\n",
       "      <td>i work in a library and go to school</td>\n",
       "      <td>read thing write by old dead people</td>\n",
       "      <td>play synthesizer and organize book accord to t...</td>\n",
       "      <td>socially awkward but i do my best</td>\n",
       "      <td>bataille celine beckett br lynch jarmusch r w ...</td>\n",
       "      <td>nan</td>\n",
       "      <td>cat and german philosophy</td>\n",
       "      <td>nan</td>\n",
       "      <td>nan</td>\n",
       "      <td>you feel so incline</td>\n",
       "    </tr>\n",
       "    <tr>\n",
       "      <th>4</th>\n",
       "      <td>hey how s it go currently vague on the profile...</td>\n",
       "      <td>work work work work play</td>\n",
       "      <td>create imagery to look at br http bagsbrown bl...</td>\n",
       "      <td>i smile a lot and my inquisitive nature</td>\n",
       "      <td>music band rapper musician br at the moment th...</td>\n",
       "      <td>nan</td>\n",
       "      <td>nan</td>\n",
       "      <td>nan</td>\n",
       "      <td>nan</td>\n",
       "      <td>nan</td>\n",
       "    </tr>\n",
       "  </tbody>\n",
       "</table>\n",
       "</div>"
      ],
      "text/plain": [
       "                                              essay0  \\\n",
       "0  about me br br i would love to think that i be...   \n",
       "1  i be a chef this be what that mean br i be a w...   \n",
       "2  i m not ashamed of much but write public text ...   \n",
       "3               i work in a library and go to school   \n",
       "4  hey how s it go currently vague on the profile...   \n",
       "\n",
       "                                              essay1  \\\n",
       "0  currently work a an international agent for a ...   \n",
       "1     dedicate everyday to be an unbelievable badass   \n",
       "2  i make nerdy software for musician artist and ...   \n",
       "3                read thing write by old dead people   \n",
       "4                           work work work work play   \n",
       "\n",
       "                                              essay2  \\\n",
       "0  make people laugh br ranting about a good salt...   \n",
       "1  be silly have ridiculous amonts of fun whereve...   \n",
       "2  improvise in different context alternate betwe...   \n",
       "3  play synthesizer and organize book accord to t...   \n",
       "4  create imagery to look at br http bagsbrown bl...   \n",
       "\n",
       "                                              essay3  \\\n",
       "0  the way i look i be a six foot half asian half...   \n",
       "1                                                nan   \n",
       "2  my large jaw and large glass be the physical t...   \n",
       "3                  socially awkward but i do my best   \n",
       "4            i smile a lot and my inquisitive nature   \n",
       "\n",
       "                                              essay4  \\\n",
       "0  book br absurdistan the republic of mouse and ...   \n",
       "1  i be die hard christopher moore fan i don t re...   \n",
       "2  okay this be where the cultural matrix get so ...   \n",
       "3  bataille celine beckett br lynch jarmusch r w ...   \n",
       "4  music band rapper musician br at the moment th...   \n",
       "\n",
       "                                              essay5  \\\n",
       "0             food br water br cell phone br shelter   \n",
       "1  delicious porkness in all of it glory br my bi...   \n",
       "2  movement br conversation br creation br contem...   \n",
       "3                                                nan   \n",
       "4                                                nan   \n",
       "\n",
       "                       essay6  \\\n",
       "0  duality and humorous thing   \n",
       "1                         nan   \n",
       "2                         nan   \n",
       "3   cat and german philosophy   \n",
       "4                         nan   \n",
       "\n",
       "                                              essay7  \\\n",
       "0  try to find someone to hang out with i be down...   \n",
       "1                                                nan   \n",
       "2               view listen dance talk drink perform   \n",
       "3                                                nan   \n",
       "4                                                nan   \n",
       "\n",
       "                                              essay8  \\\n",
       "0  i be new to california and look for someone to...   \n",
       "1  i be very open and will share just about anything   \n",
       "2  when i be five year old i be know a the boogerman   \n",
       "3                                                nan   \n",
       "4                                                nan   \n",
       "\n",
       "                                              essay9  \n",
       "0  you want to be sweep off your foot br you be t...  \n",
       "1                                                nan  \n",
       "2  you be bright open intense silly ironic critic...  \n",
       "3                                you feel so incline  \n",
       "4                                                nan  "
      ]
     },
     "execution_count": 9,
     "metadata": {},
     "output_type": "execute_result"
    }
   ],
   "source": [
    "print(df_essay.isna().sum())\n",
    "df_essay.fillna('Nan',inplace = True)\n",
    "\n",
    "df_essay = df_essay.applymap(lambda x: preprocess_text(x))\n",
    "df_essay.head(5)"
   ]
  },
  {
   "cell_type": "markdown",
   "metadata": {},
   "source": [
    "### Missing Values\n",
    "\n",
    "Now, we can merge the processed text data with the rest of the features and deal with the missing data.\n"
   ]
  },
  {
   "cell_type": "code",
   "execution_count": 128,
   "metadata": {},
   "outputs": [],
   "source": [
    "# add essay questions\n",
    "df = pd.concat([df,df_essay],axis = 1)\n",
    "\n",
    "\n",
    "#  null_df = df.isnull().sum().sort_values(ascending=False).reset_index().rename(columns={'index':'feature', 0:'count'})\n",
    "# null_df['percentage'] = null_df.apply(lambda row: row['count']/len(df), axis=1)\n",
    "# null_df\n",
    "\n",
    "df.dropna(inplace = True)"
   ]
  },
  {
   "cell_type": "markdown",
   "metadata": {},
   "source": [
    "### Select features, split and standardize data\n",
    "\n",
    "In this section, we can choose different features and iteratively find the best combination of features by checking the results of different ML models with various features. The data is split into training and test data."
   ]
  },
  {
   "cell_type": "code",
   "execution_count": 129,
   "metadata": {},
   "outputs": [
    {
     "name": "stdout",
     "output_type": "stream",
     "text": [
      "cancer         706\n",
      "leo            690\n",
      "virgo          688\n",
      "gemini         675\n",
      "aries          665\n",
      "libra          650\n",
      "taurus         643\n",
      "sagittarius    631\n",
      "scorpio        622\n",
      "aquarius       605\n",
      "pisces         590\n",
      "capricorn      555\n",
      "Name: zodiac, dtype: int64\n"
     ]
    }
   ],
   "source": [
    "\n",
    "# Select the desired features\n",
    "essay_questions = False\n",
    "features_list = ['smokes',\\\n",
    "                'drinks',\\\n",
    "                'drugs',\\\n",
    "                'body_type',\\\n",
    "                'diet',\\\n",
    "                # 'religion',\\\n",
    "                # 'job',\\\n",
    "                # 'education',\\\n",
    "                # 'pets',\\\n",
    "                # 'orientation',\\\n",
    "                # 'sex',\\\n",
    "                # 'status',\\\n",
    "                ]\n",
    "\n",
    "# list of variables that need to be encoded\n",
    "categorical_features_list = features_list[3:]\n",
    "\n",
    "# take the selected features and make dummy variables\n",
    "cat_features = df[features_list]\n",
    "cat_features = pd.get_dummies(cat_features, columns=categorical_features_list)\n",
    "\n",
    "# add categoricals with dummies and essay questions\n",
    "if essay_questions:\n",
    "    features = pd.concat([cat_features,df.loc[:,'essay0':'essay9']],axis = 1)\n",
    "else:\n",
    "    features = cat_features\n",
    "\n",
    "zodiac = df.zodiac\n",
    "# check label imbalance\n",
    "print(zodiac.value_counts())\n",
    "\n",
    "# Perform train and test split\n",
    "X_train, X_test,y_train, y_test = train_test_split(features,zodiac, test_size = 0.2)"
   ]
  },
  {
   "cell_type": "markdown",
   "metadata": {},
   "source": [
    "As seen, we checked whether the labels are imbalanced, which is not the case.\n",
    "\n",
    "#### Feature vectors of the text data\n",
    "\n",
    "Next, we have to vectorize the text data using the bag of words model. Because the vectorizer can take only one column at the time, we have to get the feature vectors of each column separately and merge them together with the rest of the features. The whole data is then standardized for the models that require standardization."
   ]
  },
  {
   "cell_type": "code",
   "execution_count": 130,
   "metadata": {},
   "outputs": [],
   "source": [
    "if essay_questions:\n",
    "    # set final data matrices\n",
    "    training_data = X_train[list(cat_features.columns)].values\n",
    "    test_data = X_test[list(cat_features.columns)].values\n",
    "\n",
    "    # get feature vectors for each essay column and join them together\n",
    "    for column in list(X_train.loc[:,'essay0':'essay9'].columns):\n",
    "        # innitialize CountVectorizer for each column\n",
    "        cv = CountVectorizer(stop_words = 'english')\n",
    "\n",
    "        # fit the vectorizer and transform training data\n",
    "        X_train_cv = cv.fit_transform(X_train[column])\n",
    "        # merge the vector with others\n",
    "        training_data = hstack((training_data, X_train_cv))\n",
    "\n",
    "        # transform and merge the test data\n",
    "        X_test_cv = cv.transform(X_test[column])\n",
    "        test_data = hstack((test_data, X_test_cv))\n",
    "else:\n",
    "    training_data = X_train\n",
    "    test_data = X_test\n",
    "\n",
    "# set label data\n",
    "training_labels = y_train\n",
    "test_labels = y_test\n",
    "\n",
    "\n",
    "# Scale the feature data so it has mean = 0 and standard deviation = 1\n",
    "stdScaler = StandardScaler(with_mean=False)\n",
    "X_train_sc = stdScaler.fit(training_data)\n",
    "X_train_std = X_train_sc.transform(training_data)\n",
    "X_test_std = X_train_sc.transform(test_data)"
   ]
  },
  {
   "cell_type": "markdown",
   "metadata": {},
   "source": [
    "### **Machine Learning Models**\n",
    "\n",
    "We can test various models and compare the results for the same set of data.\n",
    "\n",
    "#### Naive Bayes Classifier"
   ]
  },
  {
   "cell_type": "code",
   "execution_count": 131,
   "metadata": {},
   "outputs": [
    {
     "name": "stdout",
     "output_type": "stream",
     "text": [
      "KFold results: [0.08737864 0.08825911 0.08987854 0.09473684 0.08825911]\n",
      "Average: 8.97%\n",
      "\n",
      "Naive Bayes model score: 0.08678756476683938\n"
     ]
    }
   ],
   "source": [
    "# Naive Bayes Classifier\n",
    "zodiac_classifier = MultinomialNB()\n",
    "\n",
    "# create and fit Naive Bayes Classifier\n",
    "zodiac_classifier.fit(training_data, training_labels)\n",
    "\n",
    "# Kfold cross validation\n",
    "kfold = KFold(n_splits=5, shuffle=True)\n",
    "results = cross_val_score(zodiac_classifier, training_data, training_labels, cv=kfold, scoring='accuracy')\n",
    "\n",
    "print('KFold results:',results)\n",
    "print(\"Average: %.2f%%\" % (results.mean()*100))\n",
    "\n",
    "# see the accuracy\n",
    "print()\n",
    "print(f'Naive Bayes model score: {zodiac_classifier.score(test_data,y_test)}')"
   ]
  },
  {
   "cell_type": "markdown",
   "metadata": {},
   "source": [
    "#### Logistic Regression"
   ]
  },
  {
   "cell_type": "code",
   "execution_count": 132,
   "metadata": {},
   "outputs": [
    {
     "name": "stdout",
     "output_type": "stream",
     "text": [
      "KFold results: [0.08009709 0.08987854 0.07935223 0.08987854 0.07935223]\n",
      "Average: 8.37%\n",
      "\n",
      "Logistic Regression model score: 0.08678756476683938\n"
     ]
    }
   ],
   "source": [
    "# Create and train the model\n",
    "LRmodel = LogisticRegression(multi_class=\"multinomial\", max_iter=200) \n",
    "\n",
    "# make pipeline to scale each fold of the data\n",
    "clf = make_pipeline(StandardScaler(), LRmodel)\n",
    "\n",
    "# Kfold cross validation\n",
    "kfold = KFold(n_splits=5, shuffle=True)\n",
    "results = cross_val_score(clf, training_data, training_labels, cv=kfold, scoring='accuracy')\n",
    "\n",
    "print('KFold results:',results)\n",
    "print(\"Average: %.2f%%\" % (results.mean()*100))\n",
    "\n",
    "# Score the model on the test data\n",
    "LRmodel.fit(X_train_std,training_labels)\n",
    "print()\n",
    "print(f'Logistic Regression model score: {LRmodel.score(X_test_std,y_test)}')"
   ]
  },
  {
   "cell_type": "markdown",
   "metadata": {},
   "source": [
    "#### K-Neighbors Classifier"
   ]
  },
  {
   "cell_type": "code",
   "execution_count": 57,
   "metadata": {},
   "outputs": [
    {
     "data": {
      "image/png": "[encoded data removed]",
      "text/plain": [
       "<Figure size 432x288 with 1 Axes>"
      ]
     },
     "metadata": {
      "needs_background": "light"
     },
     "output_type": "display_data"
    },
    {
     "name": "stdout",
     "output_type": "stream",
     "text": [
      "K-Neighbors model score: 0.08850620744893872\n"
     ]
    }
   ],
   "source": [
    "# choose the best value of k\n",
    "accuracies = []\n",
    "i = 20\n",
    "for k in range(1,i):\n",
    "  classifier = KNeighborsClassifier(k)\n",
    "  classifier.fit(X_train_std,y_train)\n",
    "  accuracies.append(classifier.score(X_test_std,y_test))\n",
    "klist = range(1,i)\n",
    "\n",
    "plt.plot(klist,accuracies)\n",
    "plt.xlabel('k')\n",
    "plt.ylabel('Validation Accuracy')\n",
    "plt.grid()\n",
    "plt.show()\n",
    "\n",
    "k = 10\n",
    "\n",
    "# fit the model\n",
    "model2 = KNeighborsClassifier(k)\n",
    "model2.fit(X_train_std,y_train)\n",
    "\n",
    "print(f'K-Neighbors model score: {model2.score(X_test_std,y_test)}')"
   ]
  },
  {
   "cell_type": "markdown",
   "metadata": {},
   "source": [
    "#### SVM"
   ]
  },
  {
   "cell_type": "code",
   "execution_count": 134,
   "metadata": {},
   "outputs": [
    {
     "name": "stdout",
     "output_type": "stream",
     "text": [
      "Best parameters set found on validation set:\n",
      "\n",
      "{'C': 10, 'kernel': 'rbf'}\n",
      "Grid scores on development set:\n",
      "\n",
      "0.089 (+/-0.010) for {'C': 1, 'kernel': 'rbf'}\n",
      "0.092 (+/-0.011) for {'C': 10, 'kernel': 'rbf'}\n",
      "0.085 (+/-0.014) for {'C': 100, 'kernel': 'rbf'}\n",
      "0.085 (+/-0.006) for {'C': 1000, 'kernel': 'rbf'}\n",
      "0.091 (+/-0.000) for {'C': 1, 'gamma': 0.001, 'kernel': 'rbf'}\n",
      "0.091 (+/-0.000) for {'C': 1, 'gamma': 0.0001, 'kernel': 'rbf'}\n",
      "0.091 (+/-0.019) for {'C': 10, 'gamma': 0.001, 'kernel': 'rbf'}\n",
      "0.091 (+/-0.000) for {'C': 10, 'gamma': 0.0001, 'kernel': 'rbf'}\n",
      "0.091 (+/-0.009) for {'C': 100, 'gamma': 0.001, 'kernel': 'rbf'}\n",
      "0.090 (+/-0.019) for {'C': 100, 'gamma': 0.0001, 'kernel': 'rbf'}\n",
      "0.090 (+/-0.009) for {'C': 1000, 'gamma': 0.001, 'kernel': 'rbf'}\n",
      "0.090 (+/-0.010) for {'C': 1000, 'gamma': 0.0001, 'kernel': 'rbf'}\n"
     ]
    },
    {
     "name": "stderr",
     "output_type": "stream",
     "text": [
      "c:\\Users\\David\\AppData\\Local\\Programs\\Python\\Python39\\lib\\site-packages\\sklearn\\base.py:450: UserWarning: X does not have valid feature names, but SVC was fitted with feature names\n",
      "  warnings.warn(\n"
     ]
    },
    {
     "name": "stdout",
     "output_type": "stream",
     "text": [
      "SVC model score: 0.0822538860103627\n"
     ]
    }
   ],
   "source": [
    "# # check for the best parameters\n",
    "tuned_parameters = [\n",
    "  {'C': [1, 10, 100, 1000], 'kernel': ['rbf']},\n",
    "  {'C': [1, 10, 100, 1000], 'gamma': [0.001, 0.0001], 'kernel': ['rbf']},\n",
    " ]\n",
    "\n",
    "SVCclf = GridSearchCV(SVC(), tuned_parameters, scoring ='accuracy')\n",
    "SVCclf.fit(X_train, y_train)\n",
    "\n",
    "print(\"Best parameters set found on validation set:\")\n",
    "print()\n",
    "print(SVCclf.best_params_)\n",
    "print()\n",
    "print(\"Grid scores on development set:\")\n",
    "print()\n",
    "# means = SVCclf.cv_results_[\"mean_test_score\"]\n",
    "# stds = SVCclf.cv_results_[\"std_test_score\"]\n",
    "# for mean, std, params in zip(means, stds, SVCclf.cv_results_[\"params\"]):\n",
    "#   print(\"%0.3f (+/-%0.03f) for %r\" % (mean, std * 2, params))\n",
    "\n",
    "# see the score\n",
    "print(f'SVC model score: {SVCclf.score(X_test_std,y_test)}')"
   ]
  },
  {
   "cell_type": "markdown",
   "metadata": {},
   "source": [
    "#### Decision tree"
   ]
  },
  {
   "cell_type": "code",
   "execution_count": null,
   "metadata": {},
   "outputs": [
    {
     "data": {
      "image/png": "[encoded data removed]",
      "text/plain": [
       "<Figure size 432x288 with 1 Axes>"
      ]
     },
     "metadata": {
      "needs_background": "light"
     },
     "output_type": "display_data"
    },
    {
     "name": "stdout",
     "output_type": "stream",
     "text": [
      "Decision tree model score: 0.08930716860232278\n"
     ]
    }
   ],
   "source": [
    "# choose the best depth of the tree\n",
    "score = []\n",
    "maxDepth = 21\n",
    "for i in range(1,maxDepth):\n",
    "\n",
    "  # create and fir decision tree\n",
    "  tree = DecisionTreeClassifier(random_state = 1, max_depth = i)\n",
    "\n",
    "  tree.fit(X_train,y_train)\n",
    "  score.append(tree.score(X_train,y_train))\n",
    "  # print(score)\n",
    "\n",
    "# plot results\n",
    "plt.plot(range(1,maxDepth),score)\n",
    "plt.xlabel('MaxDepth')\n",
    "plt.ylabel('Score')\n",
    "plt.show()\n",
    "\n",
    "# train again with the best depth\n",
    "bestDepth = 14\n",
    "tree = DecisionTreeClassifier(max_depth = bestDepth)\n",
    "tree.fit(X_train,y_train)\n",
    "\n",
    "# see the score\n",
    "print(f'Decision tree model score: {tree.score(X_test,y_test)}')"
   ]
  },
  {
   "cell_type": "markdown",
   "metadata": {},
   "source": [
    "#### Random Forest Classifier"
   ]
  },
  {
   "cell_type": "code",
   "execution_count": 39,
   "metadata": {},
   "outputs": [
    {
     "name": "stdout",
     "output_type": "stream",
     "text": [
      "Random forest model score: 0.0841009211053264\n"
     ]
    }
   ],
   "source": [
    "# create and fit random forest\n",
    "forest = RandomForestClassifier()\n",
    "forest.fit(training_data,y_train)\n",
    "\n",
    "# print accuracy score\n",
    "print(f'Random forest model score: {forest.score(test_data,y_test)}')"
   ]
  },
  {
   "cell_type": "markdown",
   "metadata": {},
   "source": [
    "#### XGBoost"
   ]
  },
  {
   "cell_type": "markdown",
   "metadata": {},
   "source": [
    "### **Conclusion**\n",
    "\n",
    "It can be seen that the best score was not better than the random guess (1/12), combining all of the given data. This draws the question of the predictability of the zodiac signs. What does the zodiac sign depend on? According to the results, it is nothing from the given data. Actually, the results are probably as expected, at least for the person who gives no special connection to zodiac sign and everyday life."
   ]
  }
 ],
 "metadata": {
  "interpreter": {
   "hash": "425c1cb9f96b02dd326489ac6b96e3042bda6ec4abf5f4b3f4fc167f5a6a6fe0"
  },
  "kernelspec": {
   "display_name": "Python 3.9.5 64-bit",
   "language": "python",
   "name": "python3"
  },
  "language_info": {
   "codemirror_mode": {
    "name": "ipython",
    "version": 3
   },
   "file_extension": ".py",
   "mimetype": "text/x-python",
   "name": "python",
   "nbconvert_exporter": "python",
   "pygments_lexer": "ipython3",
   "version": "3.9.5"
  }
 },
 "nbformat": 4,
 "nbformat_minor": 4
}
